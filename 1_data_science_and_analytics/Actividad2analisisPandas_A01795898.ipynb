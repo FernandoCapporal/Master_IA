{
 "cells": [
  {
   "cell_type": "markdown",
   "metadata": {
    "id": "SML-04QQLd9l"
   },
   "source": [
    "**MAESTRÍA EN INTELIGENCIA ARTIFICIAL APLICADA**\n",
    "\n",
    "**Curso: TC4029 - Ciencia y analítica de datos**\n",
    "\n",
    "Tecnológico de Monterrey\n",
    "\n",
    "Prof Grettel Barceló Alonso\n",
    "\n",
    "**Semana 2**\n",
    "Pandas para el análisis de datos en Python\n",
    "\n",
    "---"
   ]
  },
  {
   "cell_type": "markdown",
   "metadata": {
    "id": "6q35__bSBB3G"
   },
   "source": [
    "*   NOMBRE: Caporal Montes de Oca Luis Fernando\n",
    "*   MATRÍCULA: A01795898\n"
   ]
  },
  {
   "cell_type": "markdown",
   "metadata": {
    "id": "AepY3wwtDXkc"
   },
   "source": [
    "---"
   ]
  },
  {
   "cell_type": "markdown",
   "metadata": {
    "id": "BumCtObqBqGr"
   },
   "source": [
    "En esta actividad usarás el archivo de datos `LaqnData.csv`. Cada fila de este conjunto de datos muestra un registro de medición, por hora, de uno de los siguientes cinco contaminantes del aire:\n",
    "\n",
    "*   `NO` (óxido nítrico)\n",
    "*   `NO2` (dióxido de nitrógeno)\n",
    "*   `NOX` (óxidos nitrosos)\n",
    "*   `PM10` (partículas suspendidas con un diámetro aerodinámico igual o menor a 10 micrómetros)\n",
    "*   `PM2.5` (partículas suspendidas con un diámetro aerodinámico igual o menor a 2.5 micrómetros)\n",
    "\n",
    "Los datos se recopilaron en una ubicación de Londres durante todo el año 2017.\n",
    "\n",
    "**NOTA IMPORTANTE:** Asegúrate de responder *explícitamente* todos los cuestionamientos.\n"
   ]
  },
  {
   "cell_type": "markdown",
   "metadata": {
    "id": "mqtTwAL3Mr44"
   },
   "source": [
    "1.\tDescarga el archivo: `LaqnData.csv` y guarda, en un dataframe (`air_df`), todos sus registros.\n",
    "*   Observa la estructura y contenido del dataframe con los atributos y métodos estudiados (`shape`, `columns`, `head()`, `tail()`, `dtypes`, `insa()`)\n",
    "*   Calcula el porcentaje de valores faltantes por columna."
   ]
  },
  {
   "cell_type": "code",
   "execution_count": 1,
   "metadata": {
    "id": "F5JognteLaJV"
   },
   "outputs": [
    {
     "name": "stdout",
     "output_type": "stream",
     "text": [
      "Los anteriores métodos sirvieron para conocer que el archivo LaqnData.csv tiene 43800 observaciones (filas) y 6 categorias (columnas), las cuales son:\n",
      "\n",
      "Site: string | Porcentage de datos faltantes: 0.0 %\n",
      "Species: string | Porcentage de datos faltantes: 0.0 %\n",
      "ReadingDateTime: string | Porcentage de datos faltantes: 0.0 %\n",
      "Value: float64 | Porcentage de datos faltantes: 7.374 %\n",
      "Units: string | Porcentage de datos faltantes: 0.0 %\n",
      "Provisional or Ratified: string | Porcentage de datos faltantes: 0.0 %\n"
     ]
    }
   ],
   "source": [
    "# Importación de la libreria\n",
    "import pandas as pd\n",
    "\n",
    "# Carga del archivo\n",
    "file = 'LaqnData.csv'\n",
    "air_df = pd.read_csv(file)\n",
    "\n",
    "n,m = air_df.shape\n",
    "columns = list(air_df.columns)\n",
    "des = air_df.dtypes\n",
    "\n",
    "# Mapper útil para imprimir el tipo de dato de acuerdo a dtypes markdown\n",
    "mapper = {'O': 'string', 'f': 'float64'}\n",
    "\n",
    "# Uso de f-strings para hacer la descripción desde código y no desde \n",
    "print(f'Los anteriores métodos sirvieron para conocer que el archivo {file}' \n",
    "      f' tiene {n} observaciones (filas) y {m} categorias (columnas), las cuales son:')\n",
    "print('')\n",
    "\n",
    "# Iteación sobre cada columna para parsear el value y tipo de dato usando el mapper\n",
    "for category in columns:\n",
    "    # dummy variable\n",
    "    x = air_df.isna()\n",
    "    # Porcentaje redondeado a 3 decimales para cada columna\n",
    "    p = round(len(x[x[category]==True])*100/n,3)\n",
    "    # Despliegue del mensaje\n",
    "    print(f'{category}:', mapper[des[category].kind], f'| Porcentage de datos faltantes: {p} %')\n"
   ]
  },
  {
   "cell_type": "markdown",
   "metadata": {},
   "source": [
    "Primeras 5 filas:"
   ]
  },
  {
   "cell_type": "code",
   "execution_count": 2,
   "metadata": {},
   "outputs": [
    {
     "data": {
      "text/html": [
       "<div>\n",
       "<style scoped>\n",
       "    .dataframe tbody tr th:only-of-type {\n",
       "        vertical-align: middle;\n",
       "    }\n",
       "\n",
       "    .dataframe tbody tr th {\n",
       "        vertical-align: top;\n",
       "    }\n",
       "\n",
       "    .dataframe thead th {\n",
       "        text-align: right;\n",
       "    }\n",
       "</style>\n",
       "<table border=\"1\" class=\"dataframe\">\n",
       "  <thead>\n",
       "    <tr style=\"text-align: right;\">\n",
       "      <th></th>\n",
       "      <th>Site</th>\n",
       "      <th>Species</th>\n",
       "      <th>ReadingDateTime</th>\n",
       "      <th>Value</th>\n",
       "      <th>Units</th>\n",
       "      <th>Provisional or Ratified</th>\n",
       "    </tr>\n",
       "  </thead>\n",
       "  <tbody>\n",
       "    <tr>\n",
       "      <th>0</th>\n",
       "      <td>CT3</td>\n",
       "      <td>NO</td>\n",
       "      <td>01/01/2017 00:00</td>\n",
       "      <td>3.5</td>\n",
       "      <td>ug m-3</td>\n",
       "      <td>R</td>\n",
       "    </tr>\n",
       "    <tr>\n",
       "      <th>1</th>\n",
       "      <td>CT3</td>\n",
       "      <td>NO</td>\n",
       "      <td>01/01/2017 01:00</td>\n",
       "      <td>3.6</td>\n",
       "      <td>ug m-3</td>\n",
       "      <td>R</td>\n",
       "    </tr>\n",
       "    <tr>\n",
       "      <th>2</th>\n",
       "      <td>CT3</td>\n",
       "      <td>NO</td>\n",
       "      <td>01/01/2017 02:00</td>\n",
       "      <td>2.2</td>\n",
       "      <td>ug m-3</td>\n",
       "      <td>R</td>\n",
       "    </tr>\n",
       "    <tr>\n",
       "      <th>3</th>\n",
       "      <td>CT3</td>\n",
       "      <td>NO</td>\n",
       "      <td>01/01/2017 03:00</td>\n",
       "      <td>2.1</td>\n",
       "      <td>ug m-3</td>\n",
       "      <td>R</td>\n",
       "    </tr>\n",
       "    <tr>\n",
       "      <th>4</th>\n",
       "      <td>CT3</td>\n",
       "      <td>NO</td>\n",
       "      <td>01/01/2017 04:00</td>\n",
       "      <td>3.3</td>\n",
       "      <td>ug m-3</td>\n",
       "      <td>R</td>\n",
       "    </tr>\n",
       "  </tbody>\n",
       "</table>\n",
       "</div>"
      ],
      "text/plain": [
       "  Site Species   ReadingDateTime  Value   Units Provisional or Ratified\n",
       "0  CT3      NO  01/01/2017 00:00    3.5  ug m-3                       R\n",
       "1  CT3      NO  01/01/2017 01:00    3.6  ug m-3                       R\n",
       "2  CT3      NO  01/01/2017 02:00    2.2  ug m-3                       R\n",
       "3  CT3      NO  01/01/2017 03:00    2.1  ug m-3                       R\n",
       "4  CT3      NO  01/01/2017 04:00    3.3  ug m-3                       R"
      ]
     },
     "execution_count": 2,
     "metadata": {},
     "output_type": "execute_result"
    }
   ],
   "source": [
    "air_df.head()"
   ]
  },
  {
   "cell_type": "markdown",
   "metadata": {},
   "source": [
    "Últimas 5 filas:\n",
    "(Con lo cual podemos ver que las filas aparentan estar ordenadas de forma de ascendente con ReadingDateTime)"
   ]
  },
  {
   "cell_type": "code",
   "execution_count": 3,
   "metadata": {},
   "outputs": [
    {
     "data": {
      "text/html": [
       "<div>\n",
       "<style scoped>\n",
       "    .dataframe tbody tr th:only-of-type {\n",
       "        vertical-align: middle;\n",
       "    }\n",
       "\n",
       "    .dataframe tbody tr th {\n",
       "        vertical-align: top;\n",
       "    }\n",
       "\n",
       "    .dataframe thead th {\n",
       "        text-align: right;\n",
       "    }\n",
       "</style>\n",
       "<table border=\"1\" class=\"dataframe\">\n",
       "  <thead>\n",
       "    <tr style=\"text-align: right;\">\n",
       "      <th></th>\n",
       "      <th>Site</th>\n",
       "      <th>Species</th>\n",
       "      <th>ReadingDateTime</th>\n",
       "      <th>Value</th>\n",
       "      <th>Units</th>\n",
       "      <th>Provisional or Ratified</th>\n",
       "    </tr>\n",
       "  </thead>\n",
       "  <tbody>\n",
       "    <tr>\n",
       "      <th>43795</th>\n",
       "      <td>CT3</td>\n",
       "      <td>PM2.5</td>\n",
       "      <td>31/12/2017 19:00</td>\n",
       "      <td>-2.0</td>\n",
       "      <td>ug m-3</td>\n",
       "      <td>R</td>\n",
       "    </tr>\n",
       "    <tr>\n",
       "      <th>43796</th>\n",
       "      <td>CT3</td>\n",
       "      <td>PM2.5</td>\n",
       "      <td>31/12/2017 20:00</td>\n",
       "      <td>6.0</td>\n",
       "      <td>ug m-3</td>\n",
       "      <td>R</td>\n",
       "    </tr>\n",
       "    <tr>\n",
       "      <th>43797</th>\n",
       "      <td>CT3</td>\n",
       "      <td>PM2.5</td>\n",
       "      <td>31/12/2017 21:00</td>\n",
       "      <td>5.0</td>\n",
       "      <td>ug m-3</td>\n",
       "      <td>R</td>\n",
       "    </tr>\n",
       "    <tr>\n",
       "      <th>43798</th>\n",
       "      <td>CT3</td>\n",
       "      <td>PM2.5</td>\n",
       "      <td>31/12/2017 22:00</td>\n",
       "      <td>5.0</td>\n",
       "      <td>ug m-3</td>\n",
       "      <td>R</td>\n",
       "    </tr>\n",
       "    <tr>\n",
       "      <th>43799</th>\n",
       "      <td>CT3</td>\n",
       "      <td>PM2.5</td>\n",
       "      <td>31/12/2017 23:00</td>\n",
       "      <td>6.0</td>\n",
       "      <td>ug m-3</td>\n",
       "      <td>R</td>\n",
       "    </tr>\n",
       "  </tbody>\n",
       "</table>\n",
       "</div>"
      ],
      "text/plain": [
       "      Site Species   ReadingDateTime  Value   Units Provisional or Ratified\n",
       "43795  CT3   PM2.5  31/12/2017 19:00   -2.0  ug m-3                       R\n",
       "43796  CT3   PM2.5  31/12/2017 20:00    6.0  ug m-3                       R\n",
       "43797  CT3   PM2.5  31/12/2017 21:00    5.0  ug m-3                       R\n",
       "43798  CT3   PM2.5  31/12/2017 22:00    5.0  ug m-3                       R\n",
       "43799  CT3   PM2.5  31/12/2017 23:00    6.0  ug m-3                       R"
      ]
     },
     "execution_count": 3,
     "metadata": {},
     "output_type": "execute_result"
    }
   ],
   "source": [
    "air_df.tail()"
   ]
  },
  {
   "cell_type": "markdown",
   "metadata": {
    "id": "APrlS185Cw-K"
   },
   "source": [
    "2.\tObtén la cantidad de valores únicos por columna (`nunique()`) para responder:\n",
    "\n",
    "\n",
    "*   ¿Cuántas mediciones se hicieron?\n",
    "*   ¿Cuántos contaminantes del aire (`Species`) se analizaron?\n",
    "*   ¿Qué columnas no agregan ningún valor informativo porque es el mismo valor en todo el conjunto de datos? Elimínalas del dataframe.\n",
    "*   La columna `Units` tampoco posee valor informativo. Verifícalo con la función `unique()` y elimínala del dataframe."
   ]
  },
  {
   "cell_type": "code",
   "execution_count": 4,
   "metadata": {
    "id": "Ke0EGLVaCwm6"
   },
   "outputs": [
    {
     "name": "stdout",
     "output_type": "stream",
     "text": [
      "Se hicieron 8760 mediciones.\n",
      "Se analizaron 5 contaminantes del aire: ['NO', 'NO2', 'NOX', 'PM10', 'PM2.5']\n",
      "\n",
      "Mientras que las columnas sin valor informativo porque son constantes son: ['Site', 'Provisional or Ratified']\n",
      "Si bien Units posee más de un valor: ['ug m-3', 'ug m-3 as NO2', 'ug/m3'] se nos indica que no es informativa\n"
     ]
    }
   ],
   "source": [
    "print(f'Se hicieron {air_df.ReadingDateTime.nunique()} mediciones.')\n",
    "print(f'Se analizaron {air_df.Species.nunique()} contaminantes del aire: {list(air_df.Species.unique())}')\n",
    "\n",
    "# Ciclo para obtener columnas sin valor informativo (son contantes)\n",
    "no_informatives = []\n",
    "for category in columns:\n",
    "    if air_df[category].nunique() == 1:\n",
    "        no_informatives.append(category)\n",
    "\n",
    "print()\n",
    "print(f'Mientras que las columnas sin valor informativo porque son constantes son: {no_informatives}')\n",
    "print(f'Si bien Units posee más de un valor: {list(air_df.Units.unique())} se nos indica que no es informativa')\n",
    "# Agregamos a la black list\n",
    "no_informatives.append('Units')\n",
    "\n",
    "# Sobreescritura de la variable para eliminar las solicitadas\n",
    "air_df = air_df.drop(no_informatives, axis=1)"
   ]
  },
  {
   "cell_type": "markdown",
   "metadata": {
    "id": "zEddCwHWEJZ7"
   },
   "source": [
    "3.\tRealiza el conteo de valores por categoría (`value_counts()`) para la columna `Species` y determina si las lecturas de cada contaminante coincide con el total de mediciones."
   ]
  },
  {
   "cell_type": "code",
   "execution_count": 5,
   "metadata": {
    "id": "inCKasmZEPsv"
   },
   "outputs": [
    {
     "name": "stdout",
     "output_type": "stream",
     "text": [
      "NO: 8760 | Concuerda con el conteo de total de mediciones \n",
      "NO2: 8760 | Concuerda con el conteo de total de mediciones \n",
      "NOX: 8760 | Concuerda con el conteo de total de mediciones \n",
      "PM10: 8760 | Concuerda con el conteo de total de mediciones \n",
      "PM2.5: 8760 | Concuerda con el conteo de total de mediciones \n"
     ]
    }
   ],
   "source": [
    "contaminants = air_df['Species'].unique()\n",
    "\n",
    "for contaminant in contaminants:\n",
    "    l = air_df['Species'].value_counts()[contaminant]\n",
    "    if l == air_df.ReadingDateTime.nunique():\n",
    "        print(f'{contaminant}: {l} | Concuerda con el conteo de total de mediciones ')\n",
    "    else:\n",
    "        print(f'{contaminant}: {l} | No concuerda con el conteo de total de mediciones ')\n",
    "\n"
   ]
  },
  {
   "cell_type": "markdown",
   "metadata": {
    "id": "zhJM6l1vETfI"
   },
   "source": [
    "4.\tUtiliza la función `groupby()` para determinar el promedio del valor por contaminante."
   ]
  },
  {
   "cell_type": "code",
   "execution_count": 6,
   "metadata": {
    "id": "zstyHahSETJK"
   },
   "outputs": [
    {
     "name": "stdout",
     "output_type": "stream",
     "text": [
      "NO. Promedio: 15.045\n",
      "NO2. Promedio: 38.01\n",
      "NOX. Promedio: 61.079\n",
      "PM10. Promedio: 22.552\n",
      "PM2.5. Promedio: 15.0\n"
     ]
    }
   ],
   "source": [
    "# Copia de la data original para llenar con 0 los valores faltantes identificados en el primer punto\n",
    "data_copy = air_df.copy()\n",
    "data_copy['Value'] = data_copy['Value'].fillna(0)\n",
    "\n",
    "# Lo anterior fue para verificar que si llenamos con cero, el promedio baja, por el que pandas excluye del calculo \n",
    "# aquelas filas con 'Value' en nulo\n",
    "\n",
    "x = air_df # x = data_copy # Si quiere verificar dicho efecto\n",
    "\n",
    "for contaminant in contaminants:\n",
    "    d = x.groupby('Species')['Value'].mean()[contaminant]\n",
    "    print(f'{contaminant}. Promedio: {round(d,3)}')"
   ]
  },
  {
   "cell_type": "markdown",
   "metadata": {
    "id": "GY2ux-Q_EV7J"
   },
   "source": [
    "5.\tEl conjunto de datos está en un formato largo. Aplique la función apropiada para cambiarlo al formato ancho (`ReadingDateTime` como índice y cada contaminante en una columna). Nombre el dataframe resultante como `pvt_df`."
   ]
  },
  {
   "cell_type": "code",
   "execution_count": 7,
   "metadata": {},
   "outputs": [],
   "source": [
    "pvt_df = air_df.pivot(index='ReadingDateTime', columns='Species', values='Value')"
   ]
  },
  {
   "cell_type": "markdown",
   "metadata": {
    "id": "JmbiBXqFFIZx"
   },
   "source": [
    "6.\tA través de la función `describe()` responde:\n",
    "\n",
    "*   ¿Cuál es el mayor valor de `NO2` registrado? ¿A qué día pertenece?\n",
    "*   ¿Cuál es el menor valor de `PM10` registrado?¿A qué día pertenece?\n",
    "*   ¿Cuál es la mediana del `NO`? ¿Cómo se interpreta?\n",
    "*   ¿Cuál es el primer cuartil de `PM2.5`? ¿Qué significa?"
   ]
  },
  {
   "cell_type": "code",
   "execution_count": 8,
   "metadata": {},
   "outputs": [
    {
     "name": "stdout",
     "output_type": "stream",
     "text": [
      "El mayor valor de NO2 registrado es de 120.2, registrado el 24/01/2017 a las 19:00\n",
      "El menor valor de PM10 registrado es de -5.6, registrado el 12/09/2017 a las 23:00\n",
      "\n",
      "La mediana de NO es 7.1, Nos indica que la mitad de los datos son mayores (o iguales) a 7.1y la otra mitad menores (o iguales) a 7.1. Por ende se considera medida de tendencia central\n",
      "\n",
      "El primer cuartil de PM2.5 es 7.0, lo que significa que el 25% de los datos son menores o iguales a 7.0\n"
     ]
    }
   ],
   "source": [
    "value = pvt_df.describe()['NO2']['max']\n",
    "index = pvt_df[pvt_df['NO2']==value].index[0]\n",
    "aux = index.split(\" \")\n",
    "\n",
    "print(f'El mayor valor de NO2 registrado es de {value}, registrado el {aux[0]} a las {aux[1]}')\n",
    "\n",
    "value = pvt_df.describe()['PM10']['min']\n",
    "index = pvt_df[pvt_df['PM10']==value].index[0]\n",
    "aux = index.split(\" \")\n",
    "\n",
    "print(f'El menor valor de PM10 registrado es de {value}, registrado el {aux[0]} a las {aux[1]}')\n",
    "\n",
    "\n",
    "print('')\n",
    "# El método describe no tiene la mediana, solo la median\n",
    "m = pvt_df.median().NO\n",
    "print(f'La mediana de NO es {m}, Nos indica que la mitad de los datos son mayores (o iguales) a {m}'\n",
    "      f'y la otra mitad menores (o iguales) a {m}. Por ende se considera medida de tendencia central')\n",
    "\n",
    "print('')\n",
    "q = pvt_df.describe()['PM2.5']['25%']\n",
    "print(f'El primer cuartil de PM2.5 es {q}, lo que significa que el 25% de los datos son menores o iguales a {q}')"
   ]
  },
  {
   "cell_type": "markdown",
   "metadata": {
    "id": "Rki16hYaFd9p"
   },
   "source": [
    "7.\tDibuja un histograma para cada columna de `pvt_df`. ¿Qué contaminante tiene mayor variabilidad?"
   ]
  },
  {
   "cell_type": "code",
   "execution_count": 9,
   "metadata": {},
   "outputs": [
    {
     "data": {
      "image/png": "[encoded data removed]",
      "text/plain": [
       "<Figure size 1500x800 with 5 Axes>"
      ]
     },
     "metadata": {},
     "output_type": "display_data"
    }
   ],
   "source": [
    "import matplotlib.pyplot as plt\n",
    "import matplotlib.gridspec as gridspec\n",
    "import pandas as pd\n",
    "\n",
    "fig = plt.figure(figsize=(15, 8))\n",
    "gs = gridspec.GridSpec(2, 6) \n",
    "\n",
    "colors = ['red', 'blue', 'orange', 'green', 'purple']\n",
    "total_columns = gs.get_geometry()[1]\n",
    "\n",
    "for i in range(0, 5): \n",
    "    if i < 3: # Las subparcelas de arriba las ploteo normal\n",
    "        ax = plt.subplot(gs[0, 2 * i:2 * i + 2])\n",
    "    else: # Para las de abajo calculo la posición correcta\n",
    "        width_of_bottom_plots = 2 * (5 - 3) \n",
    "        start_col = (total_columns - width_of_bottom_plots) // 2 + (i - 3) * 2  \n",
    "        end_col = start_col + 2 \n",
    "        ax = plt.subplot(gs[1, start_col:end_col])\n",
    "\n",
    "    # Ploteo cada contaminante con un color especifico con transparencia al 50%\n",
    "    pvt_df[contaminants[i]].hist(ax=ax, alpha=0.5, color=colors[i], label=contaminants[i])\n",
    "    # Centro la figura de 0 al maximo de cada contaminante\n",
    "    ax.set_xlim([0, pvt_df[contaminants[i]].max()])\n",
    "    ax.legend()\n",
    "    \n",
    "    ax.set_ylabel('Frecuencia de aparición')\n",
    "    ax.set_xlabel('Valor')\n",
    "        \n",
    "        \n",
    "plt.tight_layout()\n",
    "plt.show()\n"
   ]
  },
  {
   "cell_type": "code",
   "execution_count": 10,
   "metadata": {},
   "outputs": [
    {
     "name": "stdout",
     "output_type": "stream",
     "text": [
      "Los histogramas aparentan visualmente que el NO2 tiene más variabilidad.\n",
      "\n",
      "Mientras que númericamente:\n",
      "NO 26.68\n",
      "NO2 18.58\n",
      "NOX 54.58\n",
      "PM10 15.34\n",
      "PM2.5 13.56\n"
     ]
    }
   ],
   "source": [
    "print('Los histogramas aparentan visualmente que el NO2 tiene más variabilidad.')\n",
    "print('')\n",
    "print('Mientras que númericamente:')\n",
    "for contaminant in contaminants:\n",
    "    print(contaminant, round(pvt_df[contaminant].std(),2))\n",
    "\n"
   ]
  },
  {
   "cell_type": "markdown",
   "metadata": {},
   "source": [
    "##### Por lo tanto el contaminante con mayor variabilidad es el NOX, si bien el histograma muestra una concentración de valores en solo los primeros dos bins, estso abarcan valores entre 0 y 200 (que es más que el rango completo de valores posibles en NO2)"
   ]
  },
  {
   "cell_type": "markdown",
   "metadata": {
    "id": "2hJ4LzP3fgvy"
   },
   "source": [
    "8.\tEjecuta el siguiente código y comenta qué hace cada línea:"
   ]
  },
  {
   "cell_type": "code",
   "execution_count": 11,
   "metadata": {
    "id": "goQuWzNVfomA"
   },
   "outputs": [
    {
     "data": {
      "text/html": [
       "<div>\n",
       "<style scoped>\n",
       "    .dataframe tbody tr th:only-of-type {\n",
       "        vertical-align: middle;\n",
       "    }\n",
       "\n",
       "    .dataframe tbody tr th {\n",
       "        vertical-align: top;\n",
       "    }\n",
       "\n",
       "    .dataframe thead th {\n",
       "        text-align: right;\n",
       "    }\n",
       "</style>\n",
       "<table border=\"1\" class=\"dataframe\">\n",
       "  <thead>\n",
       "    <tr style=\"text-align: right;\">\n",
       "      <th></th>\n",
       "      <th></th>\n",
       "      <th></th>\n",
       "      <th></th>\n",
       "      <th>Value</th>\n",
       "    </tr>\n",
       "    <tr>\n",
       "      <th>Month</th>\n",
       "      <th>Day</th>\n",
       "      <th>Time</th>\n",
       "      <th>Species</th>\n",
       "      <th></th>\n",
       "    </tr>\n",
       "  </thead>\n",
       "  <tbody>\n",
       "    <tr>\n",
       "      <th rowspan=\"5\" valign=\"top\">01</th>\n",
       "      <th rowspan=\"5\" valign=\"top\">01</th>\n",
       "      <th>00:00</th>\n",
       "      <th>NO</th>\n",
       "      <td>3.5</td>\n",
       "    </tr>\n",
       "    <tr>\n",
       "      <th>01:00</th>\n",
       "      <th>NO</th>\n",
       "      <td>3.6</td>\n",
       "    </tr>\n",
       "    <tr>\n",
       "      <th>02:00</th>\n",
       "      <th>NO</th>\n",
       "      <td>2.2</td>\n",
       "    </tr>\n",
       "    <tr>\n",
       "      <th>03:00</th>\n",
       "      <th>NO</th>\n",
       "      <td>2.1</td>\n",
       "    </tr>\n",
       "    <tr>\n",
       "      <th>04:00</th>\n",
       "      <th>NO</th>\n",
       "      <td>3.3</td>\n",
       "    </tr>\n",
       "    <tr>\n",
       "      <th>...</th>\n",
       "      <th>...</th>\n",
       "      <th>...</th>\n",
       "      <th>...</th>\n",
       "      <td>...</td>\n",
       "    </tr>\n",
       "    <tr>\n",
       "      <th rowspan=\"5\" valign=\"top\">12</th>\n",
       "      <th rowspan=\"5\" valign=\"top\">31</th>\n",
       "      <th>19:00</th>\n",
       "      <th>PM2.5</th>\n",
       "      <td>-2.0</td>\n",
       "    </tr>\n",
       "    <tr>\n",
       "      <th>20:00</th>\n",
       "      <th>PM2.5</th>\n",
       "      <td>6.0</td>\n",
       "    </tr>\n",
       "    <tr>\n",
       "      <th>21:00</th>\n",
       "      <th>PM2.5</th>\n",
       "      <td>5.0</td>\n",
       "    </tr>\n",
       "    <tr>\n",
       "      <th>22:00</th>\n",
       "      <th>PM2.5</th>\n",
       "      <td>5.0</td>\n",
       "    </tr>\n",
       "    <tr>\n",
       "      <th>23:00</th>\n",
       "      <th>PM2.5</th>\n",
       "      <td>6.0</td>\n",
       "    </tr>\n",
       "  </tbody>\n",
       "</table>\n",
       "<p>43800 rows × 1 columns</p>\n",
       "</div>"
      ],
      "text/plain": [
       "                         Value\n",
       "Month Day Time  Species       \n",
       "01    01  00:00 NO         3.5\n",
       "          01:00 NO         3.6\n",
       "          02:00 NO         2.2\n",
       "          03:00 NO         2.1\n",
       "          04:00 NO         3.3\n",
       "...                        ...\n",
       "12    31  19:00 PM2.5     -2.0\n",
       "          20:00 PM2.5      6.0\n",
       "          21:00 PM2.5      5.0\n",
       "          22:00 PM2.5      5.0\n",
       "          23:00 PM2.5      6.0\n",
       "\n",
       "[43800 rows x 1 columns]"
      ]
     },
     "execution_count": 11,
     "metadata": {},
     "output_type": "execute_result"
    }
   ],
   "source": [
    "# Separa la columna ReadingDateTime en 2 columnas, para ello se usa .str (interpreta como cadena)\n",
    "# luego la función .split, usando el espacio vacio como el delimitador, y el argumento expand para separar en n columnas\n",
    "# En este caso son dos, la priera fecha y la segunda hora\n",
    "datetime_df = air_df.ReadingDateTime.str.split(' ',expand=True)\n",
    "\n",
    "# Dichas dos columans las renombra con la etiqueta correspondiente\n",
    "datetime_df.columns = ['Date','Time']\n",
    "\n",
    "# Esta instrucción simplemente imprimiria el nuevo dataframe, pero como hay mas instrucciones abajo, no lo hace\n",
    "datetime_df\n",
    "\n",
    "# Similar al paso 1 pero ahora el delimitador es \"/\" para dividir la fecha\n",
    "date_df = datetime_df.Date.str.split('/',expand=True)\n",
    "\n",
    "# Nuevamente etiqueta adecuadamente\n",
    "date_df.columns = ['Day','Month','Year']\n",
    "date_df\n",
    "\n",
    "# Une las 4 nuevas columnas (day, month, year, time) con el original en un mismo data frame\n",
    "# Después se elimian la columna original (ReadingDateTime) y 'Year'\n",
    "air_df = air_df.join(date_df).join(datetime_df.Time).drop(columns=['ReadingDateTime','Year'])\n",
    "\n",
    "# Finalmente indexa por mes, dia, hora y contaminante, es decir lo reorganiza para hacer busquedas mas eficientes \n",
    "air_df = air_df.set_index(['Month','Day','Time','Species'])\n",
    "air_df"
   ]
  },
  {
   "cell_type": "markdown",
   "metadata": {
    "id": "37E3dol8fpik"
   },
   "source": [
    "9. Ejecuta la siguiente instrucción y compara su salida con la del código anterior (ejercicio 8). ¿Son iguales?"
   ]
  },
  {
   "cell_type": "code",
   "execution_count": 12,
   "metadata": {
    "id": "cgbAxJrvfweW"
   },
   "outputs": [
    {
     "data": {
      "text/html": [
       "<div>\n",
       "<style scoped>\n",
       "    .dataframe tbody tr th:only-of-type {\n",
       "        vertical-align: middle;\n",
       "    }\n",
       "\n",
       "    .dataframe tbody tr th {\n",
       "        vertical-align: top;\n",
       "    }\n",
       "\n",
       "    .dataframe thead tr th {\n",
       "        text-align: left;\n",
       "    }\n",
       "\n",
       "    .dataframe thead tr:last-of-type th {\n",
       "        text-align: right;\n",
       "    }\n",
       "</style>\n",
       "<table border=\"1\" class=\"dataframe\">\n",
       "  <thead>\n",
       "    <tr>\n",
       "      <th></th>\n",
       "      <th></th>\n",
       "      <th></th>\n",
       "      <th colspan=\"5\" halign=\"left\">Value</th>\n",
       "    </tr>\n",
       "    <tr>\n",
       "      <th></th>\n",
       "      <th></th>\n",
       "      <th>Species</th>\n",
       "      <th>NO</th>\n",
       "      <th>NO2</th>\n",
       "      <th>NOX</th>\n",
       "      <th>PM10</th>\n",
       "      <th>PM2.5</th>\n",
       "    </tr>\n",
       "    <tr>\n",
       "      <th>Month</th>\n",
       "      <th>Day</th>\n",
       "      <th>Time</th>\n",
       "      <th></th>\n",
       "      <th></th>\n",
       "      <th></th>\n",
       "      <th></th>\n",
       "      <th></th>\n",
       "    </tr>\n",
       "  </thead>\n",
       "  <tbody>\n",
       "    <tr>\n",
       "      <th rowspan=\"5\" valign=\"top\">01</th>\n",
       "      <th rowspan=\"5\" valign=\"top\">01</th>\n",
       "      <th>00:00</th>\n",
       "      <td>3.5</td>\n",
       "      <td>30.8</td>\n",
       "      <td>36.2</td>\n",
       "      <td>35.7</td>\n",
       "      <td>NaN</td>\n",
       "    </tr>\n",
       "    <tr>\n",
       "      <th>01:00</th>\n",
       "      <td>3.6</td>\n",
       "      <td>31.5</td>\n",
       "      <td>37.0</td>\n",
       "      <td>28.5</td>\n",
       "      <td>NaN</td>\n",
       "    </tr>\n",
       "    <tr>\n",
       "      <th>02:00</th>\n",
       "      <td>2.2</td>\n",
       "      <td>27.3</td>\n",
       "      <td>30.7</td>\n",
       "      <td>22.7</td>\n",
       "      <td>NaN</td>\n",
       "    </tr>\n",
       "    <tr>\n",
       "      <th>03:00</th>\n",
       "      <td>2.1</td>\n",
       "      <td>23.5</td>\n",
       "      <td>26.8</td>\n",
       "      <td>20.5</td>\n",
       "      <td>NaN</td>\n",
       "    </tr>\n",
       "    <tr>\n",
       "      <th>04:00</th>\n",
       "      <td>3.3</td>\n",
       "      <td>28.0</td>\n",
       "      <td>33.0</td>\n",
       "      <td>22.1</td>\n",
       "      <td>NaN</td>\n",
       "    </tr>\n",
       "    <tr>\n",
       "      <th>...</th>\n",
       "      <th>...</th>\n",
       "      <th>...</th>\n",
       "      <td>...</td>\n",
       "      <td>...</td>\n",
       "      <td>...</td>\n",
       "      <td>...</td>\n",
       "      <td>...</td>\n",
       "    </tr>\n",
       "    <tr>\n",
       "      <th rowspan=\"5\" valign=\"top\">12</th>\n",
       "      <th rowspan=\"5\" valign=\"top\">31</th>\n",
       "      <th>19:00</th>\n",
       "      <td>0.7</td>\n",
       "      <td>17.5</td>\n",
       "      <td>18.5</td>\n",
       "      <td>16.3</td>\n",
       "      <td>-2.0</td>\n",
       "    </tr>\n",
       "    <tr>\n",
       "      <th>20:00</th>\n",
       "      <td>0.7</td>\n",
       "      <td>17.5</td>\n",
       "      <td>18.6</td>\n",
       "      <td>14.5</td>\n",
       "      <td>6.0</td>\n",
       "    </tr>\n",
       "    <tr>\n",
       "      <th>21:00</th>\n",
       "      <td>0.7</td>\n",
       "      <td>14.1</td>\n",
       "      <td>15.1</td>\n",
       "      <td>8.6</td>\n",
       "      <td>5.0</td>\n",
       "    </tr>\n",
       "    <tr>\n",
       "      <th>22:00</th>\n",
       "      <td>1.1</td>\n",
       "      <td>22.0</td>\n",
       "      <td>23.6</td>\n",
       "      <td>12.5</td>\n",
       "      <td>5.0</td>\n",
       "    </tr>\n",
       "    <tr>\n",
       "      <th>23:00</th>\n",
       "      <td>0.9</td>\n",
       "      <td>19.4</td>\n",
       "      <td>20.7</td>\n",
       "      <td>10.4</td>\n",
       "      <td>6.0</td>\n",
       "    </tr>\n",
       "  </tbody>\n",
       "</table>\n",
       "<p>8760 rows × 5 columns</p>\n",
       "</div>"
      ],
      "text/plain": [
       "                Value                        \n",
       "Species            NO   NO2   NOX  PM10 PM2.5\n",
       "Month Day Time                               \n",
       "01    01  00:00   3.5  30.8  36.2  35.7   NaN\n",
       "          01:00   3.6  31.5  37.0  28.5   NaN\n",
       "          02:00   2.2  27.3  30.7  22.7   NaN\n",
       "          03:00   2.1  23.5  26.8  20.5   NaN\n",
       "          04:00   3.3  28.0  33.0  22.1   NaN\n",
       "...               ...   ...   ...   ...   ...\n",
       "12    31  19:00   0.7  17.5  18.5  16.3  -2.0\n",
       "          20:00   0.7  17.5  18.6  14.5   6.0\n",
       "          21:00   0.7  14.1  15.1   8.6   5.0\n",
       "          22:00   1.1  22.0  23.6  12.5   5.0\n",
       "          23:00   0.9  19.4  20.7  10.4   6.0\n",
       "\n",
       "[8760 rows x 5 columns]"
      ]
     },
     "execution_count": 12,
     "metadata": {},
     "output_type": "execute_result"
    }
   ],
   "source": [
    "air_df.unstack()"
   ]
  },
  {
   "cell_type": "markdown",
   "metadata": {},
   "source": [
    "#### No, la estructura es diferente, en la primera (air_df) cada fila es de la forma mes | dia | hora | valor (para una especie)  mietras que la segunda expande todas las columnas, teniendo cada fila la forma mes | hora | valor [contaminante 1] | valor [contaminante 2] | valor [contaminante 3] ..."
   ]
  },
  {
   "cell_type": "markdown",
   "metadata": {
    "id": "K1vWLX2ffxHV"
   },
   "source": [
    "10.\tExplica cuáles son las diferencias y similitudes entre el par `melt()/pivot()` y el par `stack()/unstack()`. Si tuvieras que elegir una contraparte para `melt()` entre `stack()/unstack()`, ¿cuál elegirías? ¿Por qué?"
   ]
  },
  {
   "cell_type": "markdown",
   "metadata": {},
   "source": [
    "* $\\textbf{pivot()}$ : Se utiliza para expandir horizontalmente la organización de un data frame, es decir, si hay una columna \"categorica\" y otra \"númerica\" (con sus valores correspondientes de la anterior), con pivot se expanden las columnas para mostrar los valores de cada categoria como una nueva columna, evidentemente ello implica uan agrupación de los datos que permite una visualización mas sencilla a modo tabla; por ello se dice que funciona para pasar de una tabla larga (hacia abajo) a una tabla ancha (hacia la derecha) \n",
    "\n",
    "\n",
    "\n",
    "\n",
    "* $\\textbf{melt()}$ : Una vez explicado pivot, es mas intuitivo entender el funcionameinto de melt, pues _empaca_ las columnas de un formato ancho, y las inserta dentro de una columna que contiene todas las diferentes categorias con su valor correspondiente en la siguien columna; esto implica que hay más valores hacia abajo y por eso se dice que pasa de un formato ancho a uno largo (funcionamiento inverso al de pivot)\n",
    "\n",
    "\n",
    "* $\\textbf{unstack()}$ : De acuerdo a la documentación de pandas, se trata de un método similar a pivot en el sentido de que expande hacia le derecha, es decir convierte en nuevas columnas lo que antes eran indices (considerando los más internos)\n",
    "\n",
    "\n",
    "* $\\textbf{stack()}$ : Del mismo modo, una vez explicado unstack, es intuitivo pensar en stack como la función que convierte columnas en indices internos que permiten una visualización mas organizada 'horizontalmente'"
   ]
  },
  {
   "cell_type": "markdown",
   "metadata": {},
   "source": [
    "De lo anterior se concluye que si bien stack no es lo mismo a aplicar pivot (por el hecho de los índices jerarquicos que si contempla stack), si lo podemos entender como una contraparte de melt(), pues organiza horizontalmente (mientras que melt expande hacia abajo)"
   ]
  },
  {
   "cell_type": "markdown",
   "metadata": {
    "id": "L0EtgOVIfzRd"
   },
   "source": []
  }
 ],
 "metadata": {
  "colab": {
   "provenance": []
  },
  "kernelspec": {
   "display_name": "Python 3 (ipykernel)",
   "language": "python",
   "name": "python3"
  },
  "language_info": {
   "codemirror_mode": {
    "name": "ipython",
    "version": 3
   },
   "file_extension": ".py",
   "mimetype": "text/x-python",
   "name": "python",
   "nbconvert_exporter": "python",
   "pygments_lexer": "ipython3",
   "version": "3.11.6"
  }
 },
 "nbformat": 4,
 "nbformat_minor": 1
}
