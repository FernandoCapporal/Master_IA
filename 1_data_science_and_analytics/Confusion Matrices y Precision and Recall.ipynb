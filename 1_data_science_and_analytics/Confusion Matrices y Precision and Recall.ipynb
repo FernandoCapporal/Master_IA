{
 "cells": [
  {
   "cell_type": "markdown",
   "id": "0c348989",
   "metadata": {},
   "source": [
    "El siguiente notebook tiene la intención de especificar en que conciste la matriz de confusión, y como se calcula precisión, exactitud y sensibilidad\n",
    "\n"
   ]
  },
  {
   "cell_type": "markdown",
   "id": "2f15b58f",
   "metadata": {},
   "source": [
    "Una matriz de confusión se trata de un recuento del número de resultados que fueron clasificados en una categorica considerando la categoria original. Por lo que es evidente que se debe realizar sobre un conjunto de datos de testeo, pues además de la predicción se debe contar con la etiqueta original"
   ]
  },
  {
   "cell_type": "code",
   "execution_count": 1,
   "id": "49bef330",
   "metadata": {},
   "outputs": [],
   "source": [
    "# Cargamos los datos\n",
    "\n",
    "from sklearn.datasets import fetch_openml\n",
    "\n",
    "mnist = fetch_openml('mnist_784', as_frame=False)"
   ]
  },
  {
   "cell_type": "code",
   "execution_count": 2,
   "id": "126d2488",
   "metadata": {},
   "outputs": [],
   "source": [
    "X, y = mnist.data, mnist.target\n",
    "X_train, X_test, y_train, y_test = X[:60000], X[60000:], y[:60000], y[60000:]\n",
    "y_train_5 = (y_train == '5')\n",
    "y_test_5 = (y_test == '5')"
   ]
  },
  {
   "cell_type": "code",
   "execution_count": 4,
   "id": "a6f0240a",
   "metadata": {},
   "outputs": [
    {
     "data": {
      "text/plain": [
       "array([ True])"
      ]
     },
     "execution_count": 4,
     "metadata": {},
     "output_type": "execute_result"
    }
   ],
   "source": [
    "from sklearn.linear_model import SGDClassifier\n",
    "\n",
    "sgd_clf = SGDClassifier(random_state=42)\n",
    "sgd_clf.fit(X_train, y_train_5)\n",
    "some_digit = X[0]\n",
    "sgd_clf.predict([some_digit])"
   ]
  },
  {
   "cell_type": "code",
   "execution_count": 5,
   "id": "384effe1",
   "metadata": {},
   "outputs": [],
   "source": [
    "from sklearn.model_selection import cross_val_predict\n",
    "\n",
    "y_train_pred = cross_val_predict(sgd_clf, X_train, y_train_5, cv=3)\n",
    "\n",
    "# Inputs Clasificador lineal | Conjunto de entrenamiento (input) | Output de entrenamiento | "
   ]
  },
  {
   "cell_type": "code",
   "execution_count": 10,
   "id": "a99f5036",
   "metadata": {},
   "outputs": [
    {
     "data": {
      "text/plain": [
       "array([[53892,   687],\n",
       "       [ 1891,  3530]])"
      ]
     },
     "execution_count": 10,
     "metadata": {},
     "output_type": "execute_result"
    }
   ],
   "source": [
    "\"\"\" Esto es lo importante, utilizar confusion_matrix\"\"\"\n",
    "\n",
    "\n",
    "from sklearn.metrics import confusion_matrix\n",
    "cm = confusion_matrix(y_train_5, y_train_pred)\n",
    "cm"
   ]
  },
  {
   "cell_type": "code",
   "execution_count": 11,
   "id": "eff0c214",
   "metadata": {},
   "outputs": [
    {
     "data": {
      "text/plain": [
       "array([[54579,     0],\n",
       "       [    0,  5421]])"
      ]
     },
     "execution_count": 11,
     "metadata": {},
     "output_type": "execute_result"
    }
   ],
   "source": [
    "y_train_perfect_predictions = y_train_5  # Setear para ver como se vería un rendimiento perfecto\n",
    "confusion_matrix(y_train_5, y_train_perfect_predictions)"
   ]
  },
  {
   "cell_type": "markdown",
   "id": "2d9ad2ab",
   "metadata": {},
   "source": [
    "Scikit-Learn proporciona varias funciones para calcular métricas de clasificador, incluida la precisión y la recuperación:"
   ]
  },
  {
   "cell_type": "code",
   "execution_count": 12,
   "id": "e2d72541",
   "metadata": {},
   "outputs": [
    {
     "data": {
      "text/plain": [
       "0.8370879772350012"
      ]
     },
     "execution_count": 12,
     "metadata": {},
     "output_type": "execute_result"
    }
   ],
   "source": [
    "from sklearn.metrics import precision_score, recall_score\n",
    "precision_score(y_train_5, y_train_pred)  # == 3530 / (687 + 3530)\n"
   ]
  },
  {
   "cell_type": "code",
   "execution_count": 13,
   "id": "9b395e57",
   "metadata": {},
   "outputs": [
    {
     "data": {
      "text/plain": [
       "0.6511713705958311"
      ]
     },
     "execution_count": 13,
     "metadata": {},
     "output_type": "execute_result"
    }
   ],
   "source": [
    "recall_score(y_train_5, y_train_pred)  # == 3530 / (1891 + 3530)"
   ]
  },
  {
   "cell_type": "markdown",
   "id": "34f448c4",
   "metadata": {},
   "source": [
    "Ahora nuestro detector de 5 no se ve tan brillante como cuando analizamos su precisión. Cuando afirma que una imagen representa un 5, es correcto sólo el 83,7% de las veces. Además, sólo detecta el 65,1% de los 5.\n",
    "\n",
    "A menudo resulta conveniente combinar precisión y recuperación en una única métrica llamada puntuación F1, especialmente cuando se necesita una única métrica para comparar dos clasificadores. La puntuación F1 es la media armónica de precisión y recuperación (Ecuación 3-3). Mientras que la media regular trata todos los valores por igual, la media armónica da mucho más peso a los valores bajos. Como resultado, el clasificador sólo obtendrá una puntuación F1 alta si tanto la recuperación como la precisión son altas."
   ]
  },
  {
   "cell_type": "code",
   "execution_count": 15,
   "id": "29feee52",
   "metadata": {},
   "outputs": [
    {
     "data": {
      "text/plain": [
       "0.7325171197343847"
      ]
     },
     "execution_count": 15,
     "metadata": {},
     "output_type": "execute_result"
    }
   ],
   "source": [
    "from sklearn.metrics import f1_score\n",
    "f1_score(y_train_5, y_train_pred)"
   ]
  },
  {
   "cell_type": "code",
   "execution_count": null,
   "id": "8bb8ece3",
   "metadata": {},
   "outputs": [],
   "source": []
  }
 ],
 "metadata": {
  "kernelspec": {
   "display_name": "Python 3 (ipykernel)",
   "language": "python",
   "name": "python3"
  },
  "language_info": {
   "codemirror_mode": {
    "name": "ipython",
    "version": 3
   },
   "file_extension": ".py",
   "mimetype": "text/x-python",
   "name": "python",
   "nbconvert_exporter": "python",
   "pygments_lexer": "ipython3",
   "version": "3.11.6"
  }
 },
 "nbformat": 4,
 "nbformat_minor": 5
}
